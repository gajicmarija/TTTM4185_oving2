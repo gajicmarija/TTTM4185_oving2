{
 "cells": [
  {
   "cell_type": "markdown",
   "metadata": {},
   "source": [
    "*Check first that you have all packages installed correctly by running the codeblock under.*"
   ]
  },
  {
   "cell_type": "code",
   "execution_count": 2,
   "metadata": {},
   "outputs": [],
   "source": [
    "from graph_utils.graph import Graph, nx, plt\n",
    "from graph_utils.buss_graph import BussGraph\n",
    "from graph_utils.tree_graph import TreeGraph\n",
    "from graph_utils.ring_graph import RingGraph\n",
    "from graph_utils.star_graph import StarGraph\n",
    "from graph_utils.grid_graph import GridGraph\n",
    "from graph_utils.mesh_graph import MeshGraph\n",
    "from graph_utils.constructed_graph import ConstructedGraph\n",
    "from graph_utils.watts_strogatz import WattsStrogatz\n",
    "from graph_utils.barabasi_albert import BarabasiAlbert\n",
    "from graph_utils.real_network_graph import RealNetworkGraph\n",
    "from graph_utils.vdes_graph import VDESGraph\n",
    "from graph_utils.get_network import get_network\n",
    "import matplotlib\n",
    "import numpy as np\n",
    "import random as r"
   ]
  },
  {
   "cell_type": "markdown",
   "metadata": {},
   "source": [
    "*Go thoroughly through the Introduction notebook before you do the exercise. All tools needed are presented there.*"
   ]
  },
  {
   "cell_type": "code",
   "execution_count": 3,
   "metadata": {},
   "outputs": [],
   "source": [
    "student_seed = 10000 #Write your candidate number here, 10XXX."
   ]
  },
  {
   "cell_type": "markdown",
   "metadata": {},
   "source": [
    "# Introduction\n",
    "In this exercise shall we learn about different ways to measure the importance or centrality of a node in a network. We will furthermore encounter different graph types, learn about simple analytical methods and finally look at random and intented network failures.\n",
    "\n",
    "Knowledge of the following topics is expected after completing this exercise:\n",
    "\n",
    "* Centralities\n",
    "\n",
    "* Measurements for connecting networks\n",
    "\n",
    "    * size of the largest component\n",
    "\n",
    "* Attack targets in a network\n",
    "\n",
    "    * Importance of a node\n",
    "\n",
    "    * Attack strategies in a network\n",
    "\n",
    "* Robustness\n",
    "\n",
    "    * Redundancy\n",
    "\n",
    "* Costs of redundancy/trade-off with effect of them\n",
    "\n",
    "To be able to carry out the exercise, it is expected that the introduction tasks have been carried out and that you are able to use all tools as they have been introduced. For the following tasks, short and precise answers are expected from the student.\n",
    "I denne øvingen skal vi lære om ulike måter å måle viktigheten, eller sentraliteten, til en node i et nettverk. Vi skal også se på ulike graftyper, lære enkel analyse og til slutt se på tilfeldige og målrettede feil i et nettverk."
   ]
  },
  {
   "cell_type": "markdown",
   "metadata": {},
   "source": [
    "# Part 1: Graph structures and centralities\n",
    "\n",
    "In this part, we will introduce measures for the importance of a node in a network. We will learn about three different standard measures:  \n",
    "\n",
    "* degree centrality\n",
    "\n",
    "* betweenness centrality\n",
    "\n",
    "* closeness centrality.\n",
    "\n",
    "\n",
    "\n",
    "\n",
    "We will also have a closer look on different graph types and analyse their advantages and disadvantages.\n"
   ]
  },
  {
   "cell_type": "markdown",
   "metadata": {},
   "source": [
    "## Task 1.1\n",
    "\n",
    "In this task will we learn how to plot graphs.  \n",
    "\n",
    "### Task 1.1.1\n",
    "\n",
    "Simple graph structures that are often used are mesh, star, ring, tree and bus. With the help of the methods introduced in the introduction, construct and print a simple version of three of these graphs (4-8 nodes).\n",
    "\n",
    "<em> We expect to see three graph types constructed and printed.</em>"
   ]
  },
  {
   "cell_type": "code",
   "execution_count": 3,
   "metadata": {},
   "outputs": [],
   "source": [
    "#Code here\n"
   ]
  },
  {
   "cell_type": "code",
   "execution_count": 4,
   "metadata": {},
   "outputs": [],
   "source": [
    "#Code here"
   ]
  },
  {
   "cell_type": "code",
   "execution_count": 5,
   "metadata": {},
   "outputs": [],
   "source": [
    "#Code here\n"
   ]
  },
  {
   "cell_type": "markdown",
   "metadata": {},
   "source": [
    "### Task 1.1.2\n",
    "\n",
    "Construct a **connected** graph by constructing at first an object of the class <code> Graph </code>. Then, add 4-8 nodes with the method <code>add_node()</code> or <code>add_nodes_from()</code>. Then add edges between nodes chosen by you using the method <code>add_edge()</code> or <code>add_edges_from()</code>. Finally, use the method <code>draw()</code> to draw the graph. The graph is supposed to have between 4 and 8 nodes."
   ]
  },
  {
   "cell_type": "code",
   "execution_count": 6,
   "metadata": {},
   "outputs": [],
   "source": [
    "#Code here\n"
   ]
  },
  {
   "cell_type": "markdown",
   "metadata": {},
   "source": [
    "## Task 1.2\n",
    "Explain the notions closeness centrality, betweenness centrality and degree centrality. Will a node that has high degree centrality also have high betweeness centrality. Explain why/why not. \n",
    "\n",
    "<em> Here we expect to see that you have understood what the different centralities measure and the differences between them. </em>"
   ]
  },
  {
   "cell_type": "raw",
   "metadata": {},
   "source": [
    "Write your answer here:\n"
   ]
  },
  {
   "cell_type": "markdown",
   "metadata": {},
   "source": [
    "## Task 1.3\n",
    "\n",
    "For each of the graphs from task 1.1.1 and 1.1.2, get the node with the highest **betweeness centrality** by hand. Show your calculations and explain the importance of a node with high degree centrality for the network.\n",
    "\n",
    "<em> We expect to see that you have understood what the notion betweeness centrality means, and that you got the node with the highest betweeness centrality. We also expect to see the calculations, to ascertain that you have not found the node by using one of the following methods. Finally, we expect an explanation of the importance of the node.</em>"
   ]
  },
  {
   "cell_type": "raw",
   "metadata": {},
   "source": [
    "Write your answer here:\n"
   ]
  },
  {
   "cell_type": "raw",
   "metadata": {},
   "source": [
    "Write your answer here:\n"
   ]
  },
  {
   "cell_type": "raw",
   "metadata": {},
   "source": [
    "Write your answer here:\n"
   ]
  },
  {
   "cell_type": "raw",
   "metadata": {},
   "source": [
    "Write your answer here:\n"
   ]
  },
  {
   "cell_type": "markdown",
   "metadata": {},
   "source": [
    "## Task 1.4\n",
    "\n",
    "For each graph, get the node with the highest **closeness centrality** by hand. Show your calculations and explain the importance of a node with a high closeness centrality for the network.  \n",
    "\n",
    "<em> We expect to see that you have understood what the notion of closeness centrality means, and that you got the the node having the highest one. We also expect to see the calculations to ascertain that the answer has not been found by one of the methods below. Finally, we expect a short explanation, why this node is important.</em>"
   ]
  },
  {
   "cell_type": "raw",
   "metadata": {},
   "source": [
    "Write your answer here:\n"
   ]
  },
  {
   "cell_type": "raw",
   "metadata": {},
   "source": [
    "Write your answer here:\n"
   ]
  },
  {
   "cell_type": "raw",
   "metadata": {},
   "source": [
    "Write your answer here:"
   ]
  },
  {
   "cell_type": "raw",
   "metadata": {},
   "source": [
    "Write your answer here:\n"
   ]
  },
  {
   "cell_type": "markdown",
   "metadata": {},
   "source": [
    "## Task 1.5\n",
    "For each graph, get the node with the highest **degree centrality** by hand. Show your calculations and explain the importance of a node with a high degree centrality for the network.  \n",
    "\n",
    "<em> We expect to see that you have understood what the notion of degree centrality means, and that you got the the node having the highest one. We also expect to see the calculations to ascertain that the answer has not been found by one of the methods below. Finally, we expect a short explanation, why this node is important.</em>"
   ]
  },
  {
   "cell_type": "raw",
   "metadata": {},
   "source": [
    "Write your answer here:"
   ]
  },
  {
   "cell_type": "raw",
   "metadata": {},
   "source": [
    "Write your answer here:"
   ]
  },
  {
   "cell_type": "raw",
   "metadata": {},
   "source": [
    "Write your answer here:"
   ]
  },
  {
   "cell_type": "raw",
   "metadata": {},
   "source": [
    "Write your answer here:"
   ]
  },
  {
   "cell_type": "markdown",
   "metadata": {},
   "source": [
    "## Task 1.6\n",
    "The degree distribution can be represented by a histogram. What is the degree distribution, and why does it make sense to represent it with a histogram?"
   ]
  },
  {
   "cell_type": "raw",
   "metadata": {},
   "source": [
    "Write your answer here:"
   ]
  },
  {
   "cell_type": "markdown",
   "metadata": {},
   "source": [
    "For each of the 4 previous graphs, render the histogram of the degree distribution and comment on what you see.\n",
    "\n",
    "\n",
    "\n",
    "\n",
    "* Use the method <code>histogram()</code> for this task.\n",
    "\n",
    "\n",
    "\n",
    "\n",
    "<em> We expect to see that the students have understood what the degree distribution is and how it is used. Additionally, we expect to see one histogram per graph with a short comment on what this histogram says about the graph.</em>"
   ]
  },
  {
   "cell_type": "code",
   "execution_count": 7,
   "metadata": {},
   "outputs": [],
   "source": [
    "#Create all histograms here\n"
   ]
  },
  {
   "cell_type": "raw",
   "metadata": {},
   "source": [
    "Comment on the distribution of node degrees as shown by the histograms here. \n"
   ]
  },
  {
   "cell_type": "markdown",
   "metadata": {},
   "source": [
    "# Part 2: Structure analysis\n",
    "\n",
    "In this part will we introduce more graph structure. These graph structures are more complex, but mirror real networks better.\n",
    "\n",
    "<br/> <em>Hint: Use seed=student_seed to get the same graph each time.</em>"
   ]
  },
  {
   "cell_type": "markdown",
   "metadata": {},
   "source": [
    "## Task 2.1\n",
    "\n",
    "Construct the following 4 graphs, all with 121 nodes:\n",
    "\n",
    "    Graph 1: A Barabasi Albert graph with parameter m=1\n",
    "\n",
    "    Graph 2: A Barabasi Albert graph with parameter m=4\n",
    "\n",
    "    Graph 3: A Watts Strogatz graph with parameter k=2 and p=0.2\n",
    "\n",
    "    Graf 4: A Watts Strogatz graph with parameter k=4 and p=0.2\n",
    "\n",
    "Create an instance of an object for each of the graphs and draw them"
   ]
  },
  {
   "cell_type": "code",
   "execution_count": 8,
   "metadata": {},
   "outputs": [],
   "source": [
    "#Code here\n"
   ]
  },
  {
   "cell_type": "markdown",
   "metadata": {},
   "source": [
    "### Task 2.1.1\n",
    "Comment on the graphs you drew.\n",
    "\n",
    "<em> Here we expect to see a continuous text where you discuss similarities and differences between the graphs, focusing on strengths and vulnerabilities. </em>"
   ]
  },
  {
   "cell_type": "raw",
   "metadata": {},
   "source": [
    "Write your answer here:"
   ]
  },
  {
   "cell_type": "markdown",
   "metadata": {},
   "source": [
    "### Task 2.1.2\n",
    "Find the degree distribution for the graphs you drew. Comment on the distribution and about what it says about the robustness of the graphs.\n",
    "\n",
    "<em> Here we expect to see that you find the degree distribution for the graphs from task 2.1. Comment on the distribution and relate it to the robustness of the graphs. Compare the graphs with respect to robustness. </em>"
   ]
  },
  {
   "cell_type": "code",
   "execution_count": 9,
   "metadata": {},
   "outputs": [],
   "source": [
    "#Code here\n"
   ]
  },
  {
   "cell_type": "raw",
   "metadata": {},
   "source": [
    "Write your answer here:"
   ]
  },
  {
   "cell_type": "markdown",
   "metadata": {},
   "source": [
    "## Task 2.2\n",
    "\n",
    "### Task 2.2.1\n",
    "How does the degree distribution for a Barabasi Albert graph change if m increases? Run some tests and explain why.\n"
   ]
  },
  {
   "cell_type": "code",
   "execution_count": 10,
   "metadata": {},
   "outputs": [],
   "source": [
    "#Code here\n",
    "\n"
   ]
  },
  {
   "cell_type": "raw",
   "metadata": {},
   "source": [
    "Write your answer here:"
   ]
  },
  {
   "cell_type": "markdown",
   "metadata": {},
   "source": [
    "### Task 2.2.2\n",
    "How does the degree distribution change for a Watts Strogats graph when p gets bigger? Run some tests and explain why."
   ]
  },
  {
   "cell_type": "code",
   "execution_count": 11,
   "metadata": {},
   "outputs": [],
   "source": [
    "#Code here"
   ]
  },
  {
   "cell_type": "raw",
   "metadata": {},
   "source": [
    "Write your answer here:"
   ]
  },
  {
   "cell_type": "markdown",
   "metadata": {},
   "source": [
    "## Task 2.3\n",
    "### Task 2.3.1\n",
    "Construct a graph such that the same node(s) has/have highest betweeness, closeness and degree centrality. Use built-in functions to show how you solved the task. \n"
   ]
  },
  {
   "cell_type": "code",
   "execution_count": 12,
   "metadata": {},
   "outputs": [],
   "source": [
    "#Code here\n"
   ]
  },
  {
   "cell_type": "markdown",
   "metadata": {},
   "source": [
    "### Task 2.3.2\n",
    "\n",
    "Construct the network where the node that has the highest closeness centrality does **not** have the highest degree centrality. \n",
    "\n",
    "<em> Here we expect to see that you understand the difference between the centrality notions. </em>"
   ]
  },
  {
   "cell_type": "code",
   "execution_count": 13,
   "metadata": {},
   "outputs": [],
   "source": [
    "#Code here"
   ]
  },
  {
   "cell_type": "code",
   "execution_count": 14,
   "metadata": {},
   "outputs": [],
   "source": [
    "#Write your calculations for degree or closeness centrality here"
   ]
  },
  {
   "cell_type": "raw",
   "metadata": {},
   "source": [
    "Comment your answer here.\n"
   ]
  },
  {
   "cell_type": "markdown",
   "metadata": {},
   "source": [
    "# Part 3: Attack and rubustness\n",
    "In this task we shall analyze a fictional network which simulates a real network."
   ]
  },
  {
   "cell_type": "markdown",
   "metadata": {},
   "source": [
    "## Task 3.1\n",
    "\n",
    "<code>ConstructedGraph()</code> simulates a real network consisting of a core network with grid-structure, a regional network and dense access network. Use <code>ConstructedGraph()</code> to draw the graph."
   ]
  },
  {
   "cell_type": "code",
   "execution_count": 15,
   "metadata": {},
   "outputs": [],
   "source": [
    "#Code here\n"
   ]
  },
  {
   "cell_type": "markdown",
   "metadata": {},
   "source": [
    "### Task 3.1.1\n",
    "Without looking at centralities which node(s) do you think are the most important ones for the network?"
   ]
  },
  {
   "cell_type": "raw",
   "metadata": {},
   "source": [
    "Answer here\n"
   ]
  },
  {
   "cell_type": "markdown",
   "metadata": {},
   "source": [
    "### Task 3.1.2\n",
    "For each of the three centralities, find the most central node and mark it. How would you describe the robustness of the network?\n",
    "\n",
    "<em> Here we expect to see that you understand from which parts the network is built up. Thereafter, you should also show the most central mode within each category and deduce the robustness of the network. </em>"
   ]
  },
  {
   "cell_type": "code",
   "execution_count": 16,
   "metadata": {},
   "outputs": [],
   "source": [
    "#Code here\n"
   ]
  },
  {
   "cell_type": "raw",
   "metadata": {},
   "source": [
    "Answer here:\n"
   ]
  },
  {
   "cell_type": "markdown",
   "metadata": {},
   "source": [
    "### Task 3.1.3\n",
    "For each of the three centralities, how does removing the most central node impact the network. Which centrality would you use to determine which node is the most important in the network? \n",
    "\n",
    "\n",
    "<em> Here we expect to see that you do not remove 3 nodes at the same time, but instead look at the ccentralities one by one. </em>"
   ]
  },
  {
   "cell_type": "code",
   "execution_count": 17,
   "metadata": {},
   "outputs": [],
   "source": [
    "#Code here\n"
   ]
  },
  {
   "cell_type": "code",
   "execution_count": 18,
   "metadata": {},
   "outputs": [],
   "source": [
    "#Code here\n"
   ]
  },
  {
   "cell_type": "code",
   "execution_count": 19,
   "metadata": {},
   "outputs": [],
   "source": [
    "#Code here\n"
   ]
  },
  {
   "cell_type": "raw",
   "metadata": {},
   "source": [
    "Answer here:"
   ]
  },
  {
   "cell_type": "markdown",
   "metadata": {},
   "source": [
    "## Task 3.2\n",
    "In the following, we are going to analyze the extended version of the fictional network from task 3.1 in depth. Run the cell bellow to construct the extended network. \n",
    "\n",
    "Use the method <code>delete_random_nodes</code> to simulate random network failures.\n",
    "\n",
    "* Remove one node and draw the graph.\n",
    "\n",
    "* Remove three nodes and draw the graph.\n",
    "\n",
    "\n",
    "\n",
    "\n",
    "Comment on the damage done to the network.\n",
    "\n",
    "\n",
    "\n",
    "\n",
    "<em> We expect to see that students are able to draw two graphs, one with one and one with three nodes missing. These nodes should be deleted using the method <code>delete_random_nodes</code>. We additionally expect a short analysis of the nettwork and the damage resulting from the failures. Here, methods introduced above can be used.</em>"
   ]
  },
  {
   "cell_type": "code",
   "execution_count": null,
   "metadata": {},
   "outputs": [],
   "source": [
    "cge = ConstructedGraph(expanded=True)\n",
    "cge.draw()"
   ]
  },
  {
   "cell_type": "code",
   "execution_count": 20,
   "metadata": {},
   "outputs": [],
   "source": [
    "#Code here\n"
   ]
  },
  {
   "cell_type": "raw",
   "metadata": {},
   "source": [
    "Comment here: \n"
   ]
  },
  {
   "cell_type": "markdown",
   "metadata": {},
   "source": [
    "### Task 3.3\n",
    "Try to attack the network using both logical deductions and the measures from task 3.1. The task is to do as much damage as possible to the network, through removing three nodes.\n",
    "\n",
    "\n",
    "\n",
    "\n",
    "For each node you decide to remove, explain why.\n",
    "\n",
    "\n",
    "\n",
    "\n",
    "<em> We expect to see that the students have understood the task and choose to remove three nodes that are very central to the network. We expect to see an explanation/the thinking behind each of the nodes that were removed.</em>"
   ]
  },
  {
   "cell_type": "code",
   "execution_count": 21,
   "metadata": {},
   "outputs": [],
   "source": [
    "#Code here\n"
   ]
  },
  {
   "cell_type": "markdown",
   "metadata": {},
   "source": [
    "## Task 3.4\n",
    "A way to determine the damage done to the network is to use the size of the largest component or to look at the node degree through a histogram.\n",
    "\n",
    "\n",
    "\n",
    "\n",
    "Use these methods to discuss the damage resulting from your attacks on the network as done in tasks 3.2 and 3.3.\n",
    "\n",
    "\n",
    "\n",
    "\n",
    "<em> We expect to see that students manage to draw a histogram and use the method to find the size of the largest component. We furthermore expect to see an explanation of the consequences in the two prior tasks and that students understand the seriousness of intented attacks.</em>"
   ]
  },
  {
   "cell_type": "code",
   "execution_count": 22,
   "metadata": {},
   "outputs": [],
   "source": [
    "#Code here\n"
   ]
  },
  {
   "cell_type": "raw",
   "metadata": {},
   "source": [
    "Explanation here: \n"
   ]
  },
  {
   "cell_type": "markdown",
   "metadata": {},
   "source": [
    "## Task 3.5\n",
    "Explain what is meant by the notion \"size of the largest component\". What are advantages and disadvantages with using the size of the largest component or a histogram as a measure for robustness? Is this reasonable in our case?\n",
    "\n",
    "<em> We expect to see that the students have understood the notion of \"size of the largest component\" and why this can be used to show vulnerabilities. We also expect a short text explaining why/why not it can be a good idea to use the largest component size or the histogram as the only measure of robustness.</em>\n"
   ]
  },
  {
   "cell_type": "code",
   "execution_count": 23,
   "metadata": {},
   "outputs": [],
   "source": [
    "#Explanation here\n"
   ]
  },
  {
   "cell_type": "markdown",
   "metadata": {},
   "source": [
    "## Task 3.6\n",
    "Below you see a method to construct a graph that compares attacks with different methods. Use the method on the original network and compare with the same network to which you have added three extra edges redundancy. Discuss concisely the effects of extra redundancy.\n",
    "\n",
    "\n",
    "<em> We expect to see that students manage to use the given method and to point out the damage done to the original network. Furthermore, we expect to see that students manage to add an extra three edges of redundancy and that they can explain why they chose these three edges. Finally, we expect to see a short discussion of the effects of adding extra edges to a network. </em>"
   ]
  },
  {
   "cell_type": "code",
   "execution_count": 3,
   "metadata": {},
   "outputs": [],
   "source": [
    "def get_attack_graph(G):\n",
    "    count = G.number_of_nodes()\n",
    "    outputs = [[0 for _ in range(count)] for _ in range(4)]\n",
    "    graphs = [G for _ in range(4)]\n",
    "    x = range(0,count)\n",
    "\n",
    "    for i in x:\n",
    "        for j, graph in enumerate(graphs):\n",
    "            outputs[j][i] = graphs[j].get_largest_components_size()\n",
    "        graphs[0] = graphs[0].delete_random_nodes(print_result=False)\n",
    "        graphs[1] = graphs[1].delete_nodes_attack(centrality_index=\"degree\",print_result=False)\n",
    "        graphs[2] = graphs[2].delete_nodes_attack(centrality_index=\"closeness\",print_result=False)\n",
    "        graphs[3] = graphs[3].delete_nodes_attack(centrality_index=\"betweenness\",print_result=False)\n",
    "\n",
    "    bc1,bc2,bc3,bc4 = outputs\n",
    "    plt.plot(x,bc1,color=\"red\",label=\"Random faults\")\n",
    "    plt.plot(x,bc2,color=\"green\",label=\"Degree centrality\")\n",
    "    plt.plot(x,bc3,color=\"blue\",label=\"Closeness Centrality\")\n",
    "    plt.plot(x,bc4,color=\"orange\", label=\"Betweenness Centrality\")\n",
    "    plt.ylabel(\"Amount of nodes in largest partition\")\n",
    "    plt.xlabel(\"Amount of nodes in removed\")\n",
    "    plt.legend(loc=\"upper right\")\n",
    "    plt.show()\n"
   ]
  },
  {
   "cell_type": "code",
   "execution_count": null,
   "metadata": {},
   "outputs": [],
   "source": []
  },
  {
   "cell_type": "markdown",
   "metadata": {},
   "source": [
    "# Part 4: Securing VDES\n",
    "\n",
    "You are now employed as a security engineer in VDES; your task is to secure the network against attacks, both with malicious intent and random failures. Here it will be important to analyse the network, find low-hanging fruits and add extra edges redundancy where needed, without increasing the cost too much. Use the methods you learned in the exercise so far to analyse and secure the network. Explain your choices. Deduce consequences that result if malicious agents obtain information about your network.\n",
    "\n",
    "Your analysis should show a thorough understanding of graph theory and graph theoretical structural analysis. Your use of relevant notions will be especially considered during assessment. The task should be answered in a concise manner and comprise a maximum of 800 word. Begin the task with showing a picture of the network and reference to figures, histograms and graphs as to how you want to secure the network. Start the task with a picture of the network. Use figures, histograms and graphs to show how and why you would secure the network. Are there any nodes that are more important to secure than others? Investigate the question by adding redundancy and run attacks to assess the effectivness of your measures. Use <code>get_attack_graph()</code>. Propose how the network can be better secured agains atacks and random fails based on yout findings. \n",
    "\n",
    "The network you should analazye is obtained by running the codeblock bellow.\n"
   ]
  },
  {
   "cell_type": "code",
   "execution_count": 4,
   "metadata": {},
   "outputs": [
    {
     "data": {
      "image/png": "[encoded data removed]",
      "text/plain": [
       "<Figure size 720x720 with 1 Axes>"
      ]
     },
     "metadata": {},
     "output_type": "display_data"
    }
   ],
   "source": [
    "r.seed(student_seed)\n",
    "boat_count = r.randint(4,6)\n",
    "satellite_count = r.randint(1,3)\n",
    "radio_tower_count = r.randint(2,4)\n",
    "\n",
    "vdesGraph = VDESGraph(boat_count,satellite_count,radio_tower_count)\n",
    "vdesGraph.draw()"
   ]
  },
  {
   "cell_type": "raw",
   "metadata": {},
   "source": [
    "Answer here:"
   ]
  }
 ],
 "metadata": {
  "kernelspec": {
   "display_name": "Python 3 (ipykernel)",
   "language": "python",
   "name": "python3"
  },
  "language_info": {
   "codemirror_mode": {
    "name": "ipython",
    "version": 3
   },
   "file_extension": ".py",
   "mimetype": "text/x-python",
   "name": "python",
   "nbconvert_exporter": "python",
   "pygments_lexer": "ipython3",
   "version": "3.11.0"
  },
  "vscode": {
   "interpreter": {
    "hash": "fc7015e61c5d731a64fed8431f0b11bd965ec59f923fd63d7e4b3bbde7dba9c0"
   }
  }
 },
 "nbformat": 4,
 "nbformat_minor": 2
}
